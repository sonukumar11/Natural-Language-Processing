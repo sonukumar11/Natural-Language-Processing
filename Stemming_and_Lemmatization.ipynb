{
  "nbformat": 4,
  "nbformat_minor": 0,
  "metadata": {
    "colab": {
      "name": "Stemming and Lemmatization.ipynb",
      "provenance": []
    },
    "kernelspec": {
      "name": "python3",
      "display_name": "Python 3"
    },
    "language_info": {
      "name": "python"
    }
  },
  "cells": [
    {
      "cell_type": "markdown",
      "metadata": {
        "id": "pfFH-X4A-_3h"
      },
      "source": [
        "# Stemming and Lemmatization"
      ]
    },
    {
      "cell_type": "markdown",
      "metadata": {
        "id": "UD2uD6bPBn_t"
      },
      "source": [
        "Playing \n",
        "\n",
        "Played\n",
        "\n",
        "Play\n",
        "\n",
        "=> play (root word)"
      ]
    },
    {
      "cell_type": "code",
      "metadata": {
        "id": "oDG0qvzlB1Ki"
      },
      "source": [
        "#spacy does not have any algo for implementing Stemming\n",
        "#it has only algo for implementing Lemmatization\n",
        "#therefore we are using nltk library\n",
        "\n",
        "words = ['run','runner','running','ran','runs','easily','fairly']"
      ],
      "execution_count": null,
      "outputs": []
    },
    {
      "cell_type": "code",
      "metadata": {
        "id": "PXzegREaC1zr"
      },
      "source": [
        "#Two different Algorithm for Stemming in nltk Library\n",
        "# 1. Porter Stemmer\n",
        "# 2. Snowball Stemmer\n",
        "import nltk\n",
        "from nltk.stem.porter import PorterStemmer\n",
        "from nltk.stem.snowball import SnowballStemmer\n"
      ],
      "execution_count": null,
      "outputs": []
    },
    {
      "cell_type": "code",
      "metadata": {
        "id": "Cbs-tYNfDXrp"
      },
      "source": [
        "#Making Object of these classes\n",
        "#specify for which language we are doing stemming\n",
        "p_stemmer = PorterStemmer()\n",
        "s_stemmer = SnowballStemmer(language = 'english')"
      ],
      "execution_count": null,
      "outputs": []
    },
    {
      "cell_type": "code",
      "metadata": {
        "colab": {
          "base_uri": "https://localhost:8080/"
        },
        "id": "BtUuL0B8D2s5",
        "outputId": "60c3a42c-3ec7-402b-9d03-2fdb02093f64"
      },
      "source": [
        "#Applying stemming with porter stemmer\n",
        "for word in words:\n",
        "  print(word + \"-------\" + p_stemmer.stem(word))"
      ],
      "execution_count": null,
      "outputs": [
        {
          "output_type": "stream",
          "text": [
            "run-------run\n",
            "runner-------runner\n",
            "running-------run\n",
            "ran-------ran\n",
            "runs-------run\n",
            "easily-------easili\n",
            "fairly-------fairli\n"
          ],
          "name": "stdout"
        }
      ]
    },
    {
      "cell_type": "code",
      "metadata": {
        "colab": {
          "base_uri": "https://localhost:8080/"
        },
        "id": "BJKeRrAmEa4m",
        "outputId": "f3c91a4d-517c-4452-c493-7cc29eb6900a"
      },
      "source": [
        "#Applying stemming with snowball stemmer\n",
        "for word in words:\n",
        "  print(word + \"-------\" + s_stemmer.stem(word))"
      ],
      "execution_count": null,
      "outputs": [
        {
          "output_type": "stream",
          "text": [
            "run-------run\n",
            "runner-------runner\n",
            "running-------run\n",
            "ran-------ran\n",
            "runs-------run\n",
            "easily-------easili\n",
            "fairly-------fair\n"
          ],
          "name": "stdout"
        }
      ]
    },
    {
      "cell_type": "markdown",
      "metadata": {
        "id": "M01iT4vYFcwu"
      },
      "source": [
        "Lemmatization"
      ]
    },
    {
      "cell_type": "code",
      "metadata": {
        "id": "2nQjcxGQFhR2"
      },
      "source": [
        "import spacy"
      ],
      "execution_count": null,
      "outputs": []
    },
    {
      "cell_type": "code",
      "metadata": {
        "id": "IC6WWeQfFkSb"
      },
      "source": [
        "nlp = spacy.load('en_core_web_sm')\n"
      ],
      "execution_count": null,
      "outputs": []
    },
    {
      "cell_type": "code",
      "metadata": {
        "id": "a2zEa1l6FuC9"
      },
      "source": [
        "doc1 = nlp(\"The striped bats are hanging on their feet for best\")"
      ],
      "execution_count": null,
      "outputs": []
    },
    {
      "cell_type": "code",
      "metadata": {
        "colab": {
          "base_uri": "https://localhost:8080/"
        },
        "id": "pJerC1GeGD6B",
        "outputId": "eb09fa42-73fa-49e7-cc04-ff493e66b2f4"
      },
      "source": [
        "#Applying Lemmmatization on tokens\n",
        "for token in doc1:\n",
        "  print(token.text + ' -----> ' + token.lemma_)"
      ],
      "execution_count": null,
      "outputs": [
        {
          "output_type": "stream",
          "text": [
            "The -----> the\n",
            "stripped -----> strip\n",
            "bats -----> bat\n",
            "are -----> be\n",
            "hanging -----> hang\n",
            "on -----> on\n",
            "their -----> -PRON-\n",
            "feet -----> foot\n",
            "for -----> for\n",
            "best -----> good\n"
          ],
          "name": "stdout"
        }
      ]
    },
    {
      "cell_type": "code",
      "metadata": {
        "colab": {
          "base_uri": "https://localhost:8080/"
        },
        "id": "gc3sNKu3G_Jg",
        "outputId": "9a1e1884-4c7e-4d56-c5ed-20ed4143dbbf"
      },
      "source": [
        "#Above example using porterStemmer\n",
        "s1 = \"The striped bats are hanging on their feet for best\"\n",
        "for word in s1.split():\n",
        "  print(word + \" -------> \" + p_stemmer.stem(word))"
      ],
      "execution_count": null,
      "outputs": [
        {
          "output_type": "stream",
          "text": [
            "The -------> the\n",
            "striped -------> stripe\n",
            "bats -------> bat\n",
            "are -------> are\n",
            "hanging -------> hang\n",
            "on -------> on\n",
            "their -------> their\n",
            "feet -------> feet\n",
            "for -------> for\n",
            "best -------> best\n"
          ],
          "name": "stdout"
        }
      ]
    },
    {
      "cell_type": "code",
      "metadata": {
        "colab": {
          "base_uri": "https://localhost:8080/"
        },
        "id": "eBjpqYZOHPIK",
        "outputId": "97ecc635-3919-4220-a0a1-4361396fed14"
      },
      "source": [
        "#Above example using snowballStemmer\n",
        "s2 = \"The striped bats are hanging on their feet for best\"\n",
        "for word in s2.split():\n",
        "  print(word + \" -------> \" + s_stemmer.stem(word))"
      ],
      "execution_count": null,
      "outputs": [
        {
          "output_type": "stream",
          "text": [
            "The -------> the\n",
            "striped -------> stripe\n",
            "bats -------> bat\n",
            "are -------> are\n",
            "hanging -------> hang\n",
            "on -------> on\n",
            "their -------> their\n",
            "feet -------> feet\n",
            "for -------> for\n",
            "best -------> best\n"
          ],
          "name": "stdout"
        }
      ]
    }
  ]
}