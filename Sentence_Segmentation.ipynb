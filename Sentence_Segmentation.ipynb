{
  "nbformat": 4,
  "nbformat_minor": 0,
  "metadata": {
    "colab": {
      "name": "Sentence Segmentation.ipynb",
      "provenance": []
    },
    "kernelspec": {
      "name": "python3",
      "display_name": "Python 3"
    },
    "language_info": {
      "name": "python"
    }
  },
  "cells": [
    {
      "cell_type": "code",
      "metadata": {
        "id": "RVYX8iUA7RO7"
      },
      "source": [
        "s1 = \"This is a Sentence. This is second sentence. This is last sentence.\"\n",
        "s2 = \"This is a Sentence; This is second sentence; This is last sentence.\""
      ],
      "execution_count": 4,
      "outputs": []
    },
    {
      "cell_type": "code",
      "metadata": {
        "id": "uQu4p8Fg8IOL"
      },
      "source": [
        "#importing the spacy library and loading spacy pre-trained small model\n",
        "import spacy\n",
        "nlp = spacy.load('en_core_web_sm')"
      ],
      "execution_count": 1,
      "outputs": []
    },
    {
      "cell_type": "code",
      "metadata": {
        "id": "7AZrKRNT8ZDp"
      },
      "source": [
        "doc1 = nlp(s1)\n"
      ],
      "execution_count": 5,
      "outputs": []
    },
    {
      "cell_type": "code",
      "metadata": {
        "colab": {
          "base_uri": "https://localhost:8080/"
        },
        "id": "nqc4KSBV88aY",
        "outputId": "3cd26589-ba8c-4a41-b7d5-35d0f2b93d50"
      },
      "source": [
        "for sent in doc1.sents:\n",
        "  print(sent.text)"
      ],
      "execution_count": 6,
      "outputs": [
        {
          "output_type": "stream",
          "text": [
            "This is a Sentence.\n",
            "This is second sentence.\n",
            "This is last sentence.\n"
          ],
          "name": "stdout"
        }
      ]
    },
    {
      "cell_type": "code",
      "metadata": {
        "id": "OOkYZYhO9Qc5"
      },
      "source": [
        "s3 = s1 = \"This is a Sentence. This is second U.K. sentence. This is last sentence.\""
      ],
      "execution_count": 9,
      "outputs": []
    },
    {
      "cell_type": "code",
      "metadata": {
        "id": "HPVm1Q-H9XwM"
      },
      "source": [
        "doc3 = nlp(s3)"
      ],
      "execution_count": 10,
      "outputs": []
    },
    {
      "cell_type": "code",
      "metadata": {
        "colab": {
          "base_uri": "https://localhost:8080/"
        },
        "id": "MICDez6h9cs5",
        "outputId": "925f86af-27c3-46b4-8df2-cf0d141247a3"
      },
      "source": [
        "for sent in doc3.sents:\n",
        "  print(sent.text)"
      ],
      "execution_count": 12,
      "outputs": [
        {
          "output_type": "stream",
          "text": [
            "This is a Sentence.\n",
            "This is second U.K. sentence.\n",
            "This is last sentence.\n"
          ],
          "name": "stdout"
        }
      ]
    },
    {
      "cell_type": "code",
      "metadata": {
        "id": "pHTHK_Hc9u39"
      },
      "source": [
        "doc2 = nlp(s2)"
      ],
      "execution_count": 13,
      "outputs": []
    },
    {
      "cell_type": "code",
      "metadata": {
        "colab": {
          "base_uri": "https://localhost:8080/"
        },
        "id": "izIDsoKJ9ykQ",
        "outputId": "5c7f3709-eff1-4d4a-b69c-e31943d312ec"
      },
      "source": [
        "for sent in doc2.sents:\n",
        "  print(sent.text)"
      ],
      "execution_count": 14,
      "outputs": [
        {
          "output_type": "stream",
          "text": [
            "This is a Sentence; This is second sentence; This is last sentence.\n"
          ],
          "name": "stdout"
        }
      ]
    },
    {
      "cell_type": "markdown",
      "metadata": {
        "id": "0qmU6nhL96X_"
      },
      "source": [
        "Setting Custome boundaries for pre-trained model to identify sentence segmentation"
      ]
    },
    {
      "cell_type": "code",
      "metadata": {
        "id": "6knx4xte-De5"
      },
      "source": [
        "def set_custom_boundaries(doc):\n",
        "  for token in doc[:-1]:\n",
        "    if token.text == ';':\n",
        "      print(token.i)\n",
        "      doc[token.i+1].is_sent_start = True\n",
        "  return doc"
      ],
      "execution_count": 15,
      "outputs": []
    },
    {
      "cell_type": "code",
      "metadata": {
        "colab": {
          "base_uri": "https://localhost:8080/"
        },
        "id": "WpfOzyPe_IE-",
        "outputId": "8f470ef7-7292-422e-a205-d35282be6704"
      },
      "source": [
        "#Diffent phases each sentence to through in a spacy pre-trained model\n",
        "nlp.pipe_names"
      ],
      "execution_count": 16,
      "outputs": [
        {
          "output_type": "execute_result",
          "data": {
            "text/plain": [
              "['tagger', 'parser', 'ner']"
            ]
          },
          "metadata": {
            "tags": []
          },
          "execution_count": 16
        }
      ]
    },
    {
      "cell_type": "code",
      "metadata": {
        "id": "67OLEi7E_dPW"
      },
      "source": [
        "nlp.add_pipe(set_custom_boundaries,before='parser')"
      ],
      "execution_count": 17,
      "outputs": []
    },
    {
      "cell_type": "code",
      "metadata": {
        "colab": {
          "base_uri": "https://localhost:8080/"
        },
        "id": "BHtHCN-F_pX4",
        "outputId": "0e100778-1f38-419a-a449-6e001a4e10d6"
      },
      "source": [
        "nlp.pipe_names"
      ],
      "execution_count": 18,
      "outputs": [
        {
          "output_type": "execute_result",
          "data": {
            "text/plain": [
              "['tagger', 'set_custom_boundaries', 'parser', 'ner']"
            ]
          },
          "metadata": {
            "tags": []
          },
          "execution_count": 18
        }
      ]
    },
    {
      "cell_type": "code",
      "metadata": {
        "colab": {
          "base_uri": "https://localhost:8080/"
        },
        "id": "RVYnwMnL_sH0",
        "outputId": "e00fce28-51a2-4796-9b9c-973502ddee3c"
      },
      "source": [
        "doc_2 = nlp(s2)"
      ],
      "execution_count": 19,
      "outputs": [
        {
          "output_type": "stream",
          "text": [
            "4\n",
            "9\n"
          ],
          "name": "stdout"
        }
      ]
    },
    {
      "cell_type": "code",
      "metadata": {
        "colab": {
          "base_uri": "https://localhost:8080/"
        },
        "id": "1-VLZuad_utw",
        "outputId": "6729a606-e446-40e5-fde2-4e6ab2c85d43"
      },
      "source": [
        "for sent in doc_2.sents:\n",
        "  print(sent.text)"
      ],
      "execution_count": 20,
      "outputs": [
        {
          "output_type": "stream",
          "text": [
            "This is a Sentence;\n",
            "This is second sentence;\n",
            "This is last sentence.\n"
          ],
          "name": "stdout"
        }
      ]
    }
  ]
}