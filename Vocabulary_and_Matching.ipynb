{
  "nbformat": 4,
  "nbformat_minor": 0,
  "metadata": {
    "colab": {
      "name": "Vocabulary and Matching.ipynb",
      "provenance": []
    },
    "kernelspec": {
      "name": "python3",
      "display_name": "Python 3"
    },
    "language_info": {
      "name": "python"
    }
  },
  "cells": [
    {
      "cell_type": "markdown",
      "metadata": {
        "id": "P92mDWZ7O42g"
      },
      "source": [
        "## Rule-Based Matching"
      ]
    },
    {
      "cell_type": "code",
      "metadata": {
        "id": "IgADVN6eQC_o"
      },
      "source": [
        "import spacy\n",
        "nlp = spacy.load('en_core_web_sm')"
      ],
      "execution_count": 1,
      "outputs": []
    },
    {
      "cell_type": "code",
      "metadata": {
        "id": "JKo2SVs5enl7"
      },
      "source": [
        "#Importing the Matcher Library from spacy\n",
        "from spacy.matcher import Matcher\n",
        "#create matcher object and pass nlp.vocab\n",
        "#Vocab - A storage class for vocabulary and other data shared across a language in spacy\n",
        "matcher = Matcher(nlp.vocab)\n",
        "#Here, matcher is an object that pairs with the current vocab object\n",
        "#We can add and remove specific named matchers to matcher as needed"
      ],
      "execution_count": 4,
      "outputs": []
    },
    {
      "cell_type": "code",
      "metadata": {
        "id": "C28hCJGWfOF7"
      },
      "source": [
        "#create a list and inside that list , insert a series of dictionaries as pattern or rule\n",
        "\n",
        "# Hello World can appear in two ways :\n",
        "# 1. Hello World \n",
        "# 2. Hello-world\n",
        "\n",
        "pattern_1 = [{'LOWER' : 'hello'},{'LOWER' : 'world'}]\n",
        "#Here, Pattern 1 will be able to find where 'hello' and 'world' appear together \n",
        "#And token Lowercase value be 'hello' and 'world',Hence, It will also be able\n",
        "#find as 'HELLO WORLD' , 'Hello world' , 'HEllo WOrld' etc\n",
        "\n",
        "pattern_2 = [{'LOWER' : 'hello'} , {'IS_PUNCT' : True } , {'LOWER' : 'world'}]\n",
        "#Pattern 2 will be able to find match where hello and world and just separated\n",
        "#by any kind of Punctuation sign as 'hello-world'\n",
        "\n",
        "#'LOWER' , 'IS_PUNCT' are the attributes\n",
        "#they have to be strictly written that way only\n",
        "#There are number of attributes availiable"
      ],
      "execution_count": 6,
      "outputs": []
    },
    {
      "cell_type": "code",
      "metadata": {
        "id": "CHnIAoQkiEQ7"
      },
      "source": [
        "#Now, Add Pattern created to  the Matcher object\n",
        "\n",
        "#Add a match rule to matcher , A match rule will be consiting of\n",
        "# 1. An ID key\n",
        "# 2. an on_match callback\n",
        "# 3. one or more patterns\n",
        "\n",
        "#Here , on_match callback is defined as none\n",
        "matcher.add('Hello World',None,pattern_1,pattern_2)\n"
      ],
      "execution_count": 44,
      "outputs": []
    },
    {
      "cell_type": "code",
      "metadata": {
        "id": "B9oHpqLijEJN"
      },
      "source": [
        "#create a document\n",
        "s1 = \" 'Hello World' are the firsttwo printed word for most of the programmers , printing 'Hello-World' is most common for\"\n",
        "doc = nlp(s1)"
      ],
      "execution_count": 45,
      "outputs": []
    },
    {
      "cell_type": "code",
      "metadata": {
        "colab": {
          "base_uri": "https://localhost:8080/"
        },
        "id": "va7Dx9DTjkQc",
        "outputId": "e2816194-007d-4910-c38e-81e725582205"
      },
      "source": [
        "#Finding the matches\n",
        "find_matches = matcher(doc)\n",
        "print(find_matches)\n",
        "#it returns a list of tuples\n",
        "#String ID , index start , index end"
      ],
      "execution_count": 46,
      "outputs": [
        {
          "output_type": "stream",
          "text": [
            "[(8585552006568828647, 2, 4), (1734270822155717711, 2, 4), (8585552006568828647, 18, 21), (1734270822155717711, 18, 21)]\n"
          ],
          "name": "stdout"
        }
      ]
    },
    {
      "cell_type": "code",
      "metadata": {
        "colab": {
          "base_uri": "https://localhost:8080/"
        },
        "id": "2JrNT4YVkTkL",
        "outputId": "54bcde12-266c-4566-b6e4-bd1c65575e59"
      },
      "source": [
        "#defining a function to get matches\n",
        "for match_id,start,end in find_matches:\n",
        "  string_id = nlp.vocab.strings[match_id] #to get the string representation\n",
        "  span = doc[start:end]                   #to get the matched span\n",
        "  print(match_id , string_id , start , end , span.text)\n"
      ],
      "execution_count": 47,
      "outputs": [
        {
          "output_type": "stream",
          "text": [
            "8585552006568828647 Hello World 2 4 Hello World\n",
            "1734270822155717711 Welcome 2 4 Hello World\n",
            "8585552006568828647 Hello World 18 21 Hello-World\n",
            "1734270822155717711 Welcome 18 21 Hello-World\n"
          ],
          "name": "stdout"
        }
      ]
    },
    {
      "cell_type": "markdown",
      "metadata": {
        "id": "vTZ3dIqimU_b"
      },
      "source": [
        "## Phrase-Based Matching "
      ]
    },
    {
      "cell_type": "code",
      "metadata": {
        "id": "T2levQlOmcn3"
      },
      "source": [
        "#imporing the library and Loading the small spacy pre-trained model\n",
        "import spacy\n",
        "nlp_1 = spacy.load('en_core_web_sm')"
      ],
      "execution_count": 12,
      "outputs": []
    },
    {
      "cell_type": "code",
      "metadata": {
        "id": "qy1dkoHCnQFk"
      },
      "source": [
        "#Import the phrase matcher library\n",
        "from spacy.matcher import PhraseMatcher\n",
        "phraseMatcher = PhraseMatcher(nlp.vocab)"
      ],
      "execution_count": 13,
      "outputs": []
    },
    {
      "cell_type": "code",
      "metadata": {
        "id": "TxipxTyJnrMF"
      },
      "source": [
        "phrase_list = [\"Barack Obama\" , \"Angela Merkel\" , \"Washington D.C.\"]"
      ],
      "execution_count": 16,
      "outputs": []
    },
    {
      "cell_type": "code",
      "metadata": {
        "id": "coOz68LwoW-X"
      },
      "source": [
        "#Convert each phrase to the document object\n",
        "phrase_patterns = [nlp_1(text) for text in phrase_list] #using list comprehension\n"
      ],
      "execution_count": 24,
      "outputs": []
    },
    {
      "cell_type": "code",
      "metadata": {
        "colab": {
          "base_uri": "https://localhost:8080/"
        },
        "id": "tbXi0uYnovCo",
        "outputId": "fb22aff9-0c17-4653-c060-776be717184d"
      },
      "source": [
        "#checking the type of phrase_patterns which should be of doc form\n",
        "type(phrase_patterns[0])"
      ],
      "execution_count": 25,
      "outputs": [
        {
          "output_type": "execute_result",
          "data": {
            "text/plain": [
              "spacy.tokens.doc.Doc"
            ]
          },
          "metadata": {
            "tags": []
          },
          "execution_count": 25
        }
      ]
    },
    {
      "cell_type": "code",
      "metadata": {
        "id": "yT7-Bq5oo8QG"
      },
      "source": [
        "#Passing each doc object into the matcher\n",
        "phraseMatcher.add(\"TerminologyList\",None , *phrase_patterns)\n"
      ],
      "execution_count": 27,
      "outputs": []
    },
    {
      "cell_type": "code",
      "metadata": {
        "id": "HJ_Lp6lXpZC1"
      },
      "source": [
        "doc_3 = nlp_1(\"German chancellor Angela Merkel and US President Barack Obama \"\n",
        "              \"converse in Oval office inside the white house in Washington D.C.\")"
      ],
      "execution_count": 30,
      "outputs": []
    },
    {
      "cell_type": "code",
      "metadata": {
        "colab": {
          "base_uri": "https://localhost:8080/"
        },
        "id": "yQ1IyHl8p7l6",
        "outputId": "ded28548-072f-4568-fc55-2931eec59738"
      },
      "source": [
        "find_matches = phraseMatcher(doc_3)\n",
        "print(find_matches)"
      ],
      "execution_count": 31,
      "outputs": [
        {
          "output_type": "stream",
          "text": [
            "[(3766102292120407359, 2, 4), (3766102292120407359, 7, 9), (3766102292120407359, 18, 20)]\n"
          ],
          "name": "stdout"
        }
      ]
    },
    {
      "cell_type": "code",
      "metadata": {
        "colab": {
          "base_uri": "https://localhost:8080/",
          "height": 270
        },
        "id": "7OeW65zpq5IO",
        "outputId": "e5568791-f7ae-40c8-d952-7212095c7228"
      },
      "source": [
        "#defining a function to get matches\n",
        "# for match_id,start,end in find_matches:\n",
        "#   string_id = nlp_1.vocab.strings[match_id] #to get the string representation\n",
        "#   span = doc_3[start:end]                   #to get the matched span\n",
        "#   print(match_id , string_id , start , end , span.text)"
      ],
      "execution_count": 35,
      "outputs": [
        {
          "output_type": "error",
          "ename": "KeyError",
          "evalue": "ignored",
          "traceback": [
            "\u001b[0;31m---------------------------------------------------------------------------\u001b[0m",
            "\u001b[0;31mKeyError\u001b[0m                                  Traceback (most recent call last)",
            "\u001b[0;32m<ipython-input-35-e48ed59f9362>\u001b[0m in \u001b[0;36m<module>\u001b[0;34m()\u001b[0m\n\u001b[1;32m      1\u001b[0m \u001b[0;31m#defining a function to get matches\u001b[0m\u001b[0;34m\u001b[0m\u001b[0;34m\u001b[0m\u001b[0;34m\u001b[0m\u001b[0m\n\u001b[1;32m      2\u001b[0m \u001b[0;32mfor\u001b[0m \u001b[0mmatch_id\u001b[0m\u001b[0;34m,\u001b[0m\u001b[0mstart\u001b[0m\u001b[0;34m,\u001b[0m\u001b[0mend\u001b[0m \u001b[0;32min\u001b[0m \u001b[0mfind_matches\u001b[0m\u001b[0;34m:\u001b[0m\u001b[0;34m\u001b[0m\u001b[0;34m\u001b[0m\u001b[0m\n\u001b[0;32m----> 3\u001b[0;31m   \u001b[0mstring_id\u001b[0m \u001b[0;34m=\u001b[0m \u001b[0mnlp_1\u001b[0m\u001b[0;34m.\u001b[0m\u001b[0mvocab\u001b[0m\u001b[0;34m.\u001b[0m\u001b[0mstrings\u001b[0m\u001b[0;34m[\u001b[0m\u001b[0mmatch_id\u001b[0m\u001b[0;34m]\u001b[0m \u001b[0;31m#to get the string representation\u001b[0m\u001b[0;34m\u001b[0m\u001b[0;34m\u001b[0m\u001b[0m\n\u001b[0m\u001b[1;32m      4\u001b[0m   \u001b[0mspan\u001b[0m \u001b[0;34m=\u001b[0m \u001b[0mdoc_3\u001b[0m\u001b[0;34m[\u001b[0m\u001b[0mstart\u001b[0m\u001b[0;34m:\u001b[0m\u001b[0mend\u001b[0m\u001b[0;34m]\u001b[0m                   \u001b[0;31m#to get the matched span\u001b[0m\u001b[0;34m\u001b[0m\u001b[0;34m\u001b[0m\u001b[0m\n\u001b[1;32m      5\u001b[0m   \u001b[0mprint\u001b[0m\u001b[0;34m(\u001b[0m\u001b[0mmatch_id\u001b[0m \u001b[0;34m,\u001b[0m \u001b[0mstring_id\u001b[0m \u001b[0;34m,\u001b[0m \u001b[0mstart\u001b[0m \u001b[0;34m,\u001b[0m \u001b[0mend\u001b[0m \u001b[0;34m,\u001b[0m \u001b[0mspan\u001b[0m\u001b[0;34m.\u001b[0m\u001b[0mtext\u001b[0m\u001b[0;34m)\u001b[0m\u001b[0;34m\u001b[0m\u001b[0;34m\u001b[0m\u001b[0m\n",
            "\u001b[0;32mstrings.pyx\u001b[0m in \u001b[0;36mspacy.strings.StringStore.__getitem__\u001b[0;34m()\u001b[0m\n",
            "\u001b[0;31mKeyError\u001b[0m: \"[E018] Can't retrieve string for hash '3766102292120407359'. This usually refers to an issue with the `Vocab` or `StringStore`.\""
          ]
        }
      ]
    }
  ]
}