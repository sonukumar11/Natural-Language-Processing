{
  "nbformat": 4,
  "nbformat_minor": 0,
  "metadata": {
    "colab": {
      "name": "Named Entity Recognition.ipynb",
      "provenance": []
    },
    "kernelspec": {
      "name": "python3",
      "display_name": "Python 3"
    },
    "language_info": {
      "name": "python"
    }
  },
  "cells": [
    {
      "cell_type": "markdown",
      "metadata": {
        "id": "WbmeExNozDl1"
      },
      "source": [
        "## Named Entity Recognition"
      ]
    },
    {
      "cell_type": "code",
      "metadata": {
        "id": "KMLq8UE1zIGG"
      },
      "source": [
        "#importing spacy library and loading the pre-trained spacy small model\n",
        "import spacy\n",
        "nlp = spacy.load('en_core_web_sm')"
      ],
      "execution_count": 1,
      "outputs": []
    },
    {
      "cell_type": "code",
      "metadata": {
        "id": "VRxDRBMkzb5W"
      },
      "source": [
        "s1 = 'Apple is looking at buying U.K. startup for $1 billion'\n",
        "s2 = 'San Francisco considers banning sidewalk delivery robots'\n",
        "s3 = 'facebook is hiring a new vice president in U.S.'"
      ],
      "execution_count": 2,
      "outputs": []
    },
    {
      "cell_type": "code",
      "metadata": {
        "colab": {
          "base_uri": "https://localhost:8080/"
        },
        "id": "4g178hlAz4M2",
        "outputId": "6bd4f9ee-eccb-498e-96f7-d111ddcf91a7"
      },
      "source": [
        "doc1 = nlp(s1)\n",
        "#identifies that three entity are present in sentence s1\n",
        "doc1.ents\n",
        "\n",
        "#To get detailed explanation about these entities \n",
        "for ents in doc1.ents:\n",
        "  print(ents.text , \" -----> \" , ents.label_ , \" ----- \" , str(spacy.explain(ents.label_)))"
      ],
      "execution_count": 10,
      "outputs": [
        {
          "output_type": "stream",
          "text": [
            "Apple  ----->  ORG  -----  Companies, agencies, institutions, etc.\n",
            "U.K.  ----->  GPE  -----  Countries, cities, states\n",
            "$1 billion  ----->  MONEY  -----  Monetary values, including unit\n"
          ],
          "name": "stdout"
        }
      ]
    },
    {
      "cell_type": "code",
      "metadata": {
        "colab": {
          "base_uri": "https://localhost:8080/"
        },
        "id": "Il5WmxDT2mjl",
        "outputId": "31eed405-cdd3-49d4-9a31-7e528272bc04"
      },
      "source": [
        "#Applying the same above for document - 2\n",
        "doc2 = nlp(s2)\n",
        "#identifies that three entity are present in sentence s1\n",
        "doc2.ents\n",
        "\n",
        "#To get detailed explanation about these entities \n",
        "for ents in doc2.ents:\n",
        "  print(ents.text , \" -----> \" , ents.label_ , \" ----- \" , str(spacy.explain(ents.label_)))"
      ],
      "execution_count": 11,
      "outputs": [
        {
          "output_type": "stream",
          "text": [
            "San Francisco  ----->  GPE  -----  Countries, cities, states\n"
          ],
          "name": "stdout"
        }
      ]
    },
    {
      "cell_type": "code",
      "metadata": {
        "colab": {
          "base_uri": "https://localhost:8080/"
        },
        "id": "TkPMs-2q25Fj",
        "outputId": "02991f13-c136-43d6-e23e-c603613a97e8"
      },
      "source": [
        "#Applying the same above for document - 3\n",
        "doc3 = nlp(s3)\n",
        "#identifies that three entity are present in sentence s1\n",
        "doc3.ents\n",
        "\n",
        "#To get detailed explanation about these entities \n",
        "for ents in doc3.ents:\n",
        "  print(ents.text , \" -----> \" , ents.label_ , \" ----- \" , str(spacy.explain(ents.label_)))"
      ],
      "execution_count": 13,
      "outputs": [
        {
          "output_type": "stream",
          "text": [
            "U.S.  ----->  GPE  -----  Countries, cities, states\n"
          ],
          "name": "stdout"
        }
      ]
    },
    {
      "cell_type": "markdown",
      "metadata": {
        "id": "GArq3J9K5oGA"
      },
      "source": [
        "Adding a New Entity to Our Pre-tarined Model"
      ]
    },
    {
      "cell_type": "code",
      "metadata": {
        "id": "V86U8CEx43F6"
      },
      "source": [
        "#defining Organization entity\n",
        "ORG = doc3.vocab.strings['ORG']"
      ],
      "execution_count": 15,
      "outputs": []
    },
    {
      "cell_type": "code",
      "metadata": {
        "id": "L4c6wfx-3y5q"
      },
      "source": [
        "#Span requires four Arguments \n",
        "# 1 . From which document we are looking for some entity.\n",
        "# 2  and 3 . From which token to which token we are looking for.\n",
        "# 4. Type of entity we are looking for.  \n",
        "from spacy.tokens import Span\n",
        "new_ent = Span(doc3, 0 , 1 , label =  ORG)"
      ],
      "execution_count": 20,
      "outputs": []
    },
    {
      "cell_type": "code",
      "metadata": {
        "id": "tgM9x-Uf3W7f"
      },
      "source": [
        "# With Spacy , we can also add extra named entity to the model\n",
        "doc3.ents = list(doc3.ents) + [new_ent]"
      ],
      "execution_count": null,
      "outputs": []
    },
    {
      "cell_type": "code",
      "metadata": {
        "colab": {
          "base_uri": "https://localhost:8080/"
        },
        "id": "NfFNbqvt5gO3",
        "outputId": "b6e9c4b6-6e61-4fee-9c32-0f9f6316aceb"
      },
      "source": [
        "#Now Getting all entities from doc3 \n",
        "doc3.ents"
      ],
      "execution_count": 22,
      "outputs": [
        {
          "output_type": "execute_result",
          "data": {
            "text/plain": [
              "(facebook, U.S.)"
            ]
          },
          "metadata": {
            "tags": []
          },
          "execution_count": 22
        }
      ]
    },
    {
      "cell_type": "code",
      "metadata": {
        "id": "UIaYlQk86Bq7"
      },
      "source": [
        "from spacy import displacy\n"
      ],
      "execution_count": 23,
      "outputs": []
    },
    {
      "cell_type": "code",
      "metadata": {
        "colab": {
          "base_uri": "https://localhost:8080/",
          "height": 52
        },
        "id": "TvG0UDWm6Ho7",
        "outputId": "39943919-9df8-4d5b-de72-9aebfc990308"
      },
      "source": [
        "displacy.render(docs = doc1 , style = 'ent' , jupyter = True)"
      ],
      "execution_count": 26,
      "outputs": [
        {
          "output_type": "display_data",
          "data": {
            "text/html": [
              "<span class=\"tex2jax_ignore\"><div class=\"entities\" style=\"line-height: 2.5; direction: ltr\">\n",
              "<mark class=\"entity\" style=\"background: #7aecec; padding: 0.45em 0.6em; margin: 0 0.25em; line-height: 1; border-radius: 0.35em;\">\n",
              "    Apple\n",
              "    <span style=\"font-size: 0.8em; font-weight: bold; line-height: 1; border-radius: 0.35em; text-transform: uppercase; vertical-align: middle; margin-left: 0.5rem\">ORG</span>\n",
              "</mark>\n",
              " is looking at buying \n",
              "<mark class=\"entity\" style=\"background: #feca74; padding: 0.45em 0.6em; margin: 0 0.25em; line-height: 1; border-radius: 0.35em;\">\n",
              "    U.K.\n",
              "    <span style=\"font-size: 0.8em; font-weight: bold; line-height: 1; border-radius: 0.35em; text-transform: uppercase; vertical-align: middle; margin-left: 0.5rem\">GPE</span>\n",
              "</mark>\n",
              " startup for \n",
              "<mark class=\"entity\" style=\"background: #e4e7d2; padding: 0.45em 0.6em; margin: 0 0.25em; line-height: 1; border-radius: 0.35em;\">\n",
              "    $1 billion\n",
              "    <span style=\"font-size: 0.8em; font-weight: bold; line-height: 1; border-radius: 0.35em; text-transform: uppercase; vertical-align: middle; margin-left: 0.5rem\">MONEY</span>\n",
              "</mark>\n",
              "</div></span>"
            ],
            "text/plain": [
              "<IPython.core.display.HTML object>"
            ]
          },
          "metadata": {
            "tags": []
          }
        }
      ]
    },
    {
      "cell_type": "code",
      "metadata": {
        "colab": {
          "base_uri": "https://localhost:8080/",
          "height": 52
        },
        "id": "zFcv7sNn6il4",
        "outputId": "65f0c87f-7227-4aab-8e18-f8a03d383882"
      },
      "source": [
        "#To display a particular entity only.\n",
        "displacy.render(docs = doc1 , style = 'ent' ,options={'ents' : ['ORG']}, jupyter = True)"
      ],
      "execution_count": 28,
      "outputs": [
        {
          "output_type": "display_data",
          "data": {
            "text/html": [
              "<span class=\"tex2jax_ignore\"><div class=\"entities\" style=\"line-height: 2.5; direction: ltr\">\n",
              "<mark class=\"entity\" style=\"background: #7aecec; padding: 0.45em 0.6em; margin: 0 0.25em; line-height: 1; border-radius: 0.35em;\">\n",
              "    Apple\n",
              "    <span style=\"font-size: 0.8em; font-weight: bold; line-height: 1; border-radius: 0.35em; text-transform: uppercase; vertical-align: middle; margin-left: 0.5rem\">ORG</span>\n",
              "</mark>\n",
              " is looking at buying U.K. startup for $1 billion</div></span>"
            ],
            "text/plain": [
              "<IPython.core.display.HTML object>"
            ]
          },
          "metadata": {
            "tags": []
          }
        }
      ]
    }
  ]
}