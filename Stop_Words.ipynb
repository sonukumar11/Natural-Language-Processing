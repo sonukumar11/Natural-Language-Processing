{
  "nbformat": 4,
  "nbformat_minor": 0,
  "metadata": {
    "colab": {
      "name": "Stop Words.ipynb",
      "provenance": []
    },
    "kernelspec": {
      "name": "python3",
      "display_name": "Python 3"
    },
    "language_info": {
      "name": "python"
    }
  },
  "cells": [
    {
      "cell_type": "markdown",
      "metadata": {
        "id": "l8yshjPJJgLq"
      },
      "source": [
        "## Stop Words"
      ]
    },
    {
      "cell_type": "code",
      "metadata": {
        "id": "1yxM16k7Jkcp"
      },
      "source": [
        "import spacy\n",
        "nlp = spacy.load('en_core_web_sm')"
      ],
      "execution_count": null,
      "outputs": []
    },
    {
      "cell_type": "code",
      "metadata": {
        "colab": {
          "base_uri": "https://localhost:8080/"
        },
        "id": "B4bLgnxzKgpH",
        "outputId": "747c4931-7f73-493f-d471-8bd680d38369"
      },
      "source": [
        "#Words as 'a' , 'an' , 'the' , 'always' which does have meaning according to the grammatical point of view\n",
        "#However, From the technical point of view , it does not carry useful information.\n",
        "#spacy library provides us with a list of such stop words already defined\n",
        "print(nlp.Defaults.stop_words)\n"
      ],
      "execution_count": null,
      "outputs": [
        {
          "output_type": "stream",
          "text": [
            "{'his', 'really', 'whenever', 'toward', \"'ll\", 'serious', 'made', 'therefore', 'too', '‘ll', 'until', 'by', 'otherwise', 'around', 'also', 'those', \"'ve\", 'see', 'latterly', 'how', 'seems', 'ever', '‘re', 'nevertheless', 'because', 'through', 'already', 'used', 'for', 'only', 'them', 'are', 'been', 'thus', 'become', 'with', 'either', 'once', 'someone', 'did', 'their', 'anything', '‘ve', 'again', 'back', 'nine', 'that', 'however', 'forty', 'over', 'might', 'twenty', 'must', 'eleven', 'is', 'namely', 'very', 'cannot', 'enough', 'wherever', 'beforehand', 'whereby', 'itself', 'many', 'after', 'front', 'few', 'under', 'next', 'something', 'somehow', 'various', 'moreover', 'regarding', 'off', 'even', 'be', 'rather', 'still', 'him', 'can', '’s', 'much', 'give', 'fifteen', 'along', 'part', \"'m\", 'was', 'alone', 'anyway', 'below', 'in', 'whole', '’d', 'mine', 'none', 'they', 'hereby', 'beyond', 'noone', 'several', 'sometime', 'we', 'meanwhile', 'further', 'am', 'may', 'wherein', '’m', 'nobody', 'which', 'doing', 'whereas', 'yet', 'before', 'six', 'eight', 'thereafter', 'at', 'seeming', 'whether', 'everyone', 'then', 'as', 'herein', 'empty', 'whereafter', 'latter', 'both', 'no', 'unless', 'an', 'four', 'own', 'whom', 'it', 'within', 'becomes', 'about', 'another', 'what', 'indeed', 'side', 'done', 'anyone', 'less', 'among', 'five', 'say', 'hers', 'each', 'formerly', 'on', 'out', 'using', 'besides', 'her', 'others', 'put', 'afterwards', 'yourself', 'its', 'onto', 'nothing', '‘d', '’ll', 'not', 'neither', 'often', 'have', 'these', 'though', 'go', 'where', '’ve', 'there', 'full', 'himself', 'thereupon', 'to', 'now', 'show', 'sixty', 'yours', 'take', 'hereafter', 'me', 'most', 'you', 'behind', 'had', 'call', 'n‘t', 'will', 'nor', 'from', 'amongst', 'above', 'between', 'somewhere', \"n't\", 'were', \"'d\", 'yourselves', 'keep', 'but', 'without', 'our', 'throughout', 'or', 'else', 'your', 'never', 'myself', 'across', 'since', 'of', 'almost', 'up', 'except', 'nowhere', '’re', 'just', 'whereupon', 'who', 'quite', 'every', 'would', 'anywhere', 'whence', 'becoming', 'whither', 'always', 'themselves', 'per', 'ourselves', 'fifty', 'everything', 'herself', 'three', 'therein', \"'s\", 're', 'and', 'two', 'hereupon', 'get', 'ten', 'whatever', 'she', 'against', 'make', 'than', 'why', 'when', 'my', 'least', 'everywhere', 'although', 'whoever', 'move', 'ours', 'hundred', 'anyhow', 'all', 'should', 'mostly', 'same', 'do', 'seem', 'twelve', 'amount', 'down', 'here', 'perhaps', 'n’t', 'elsewhere', 'towards', 'some', 'please', 'ca', 'one', \"'re\", 'a', '‘s', 'bottom', 'while', 'became', 'former', 'top', 'during', 'into', 'thence', 'does', 'sometimes', 'if', 'so', 'third', 'thereby', 'due', 'thru', 'via', 'could', 'seemed', 'more', 'beside', 'other', 'well', 'such', 'hence', 'i', '‘m', 'being', 'this', 'us', 'name', 'whose', 'the', 'first', 'any', 'upon', 'has', 'he', 'together', 'last'}\n"
          ],
          "name": "stdout"
        }
      ]
    },
    {
      "cell_type": "code",
      "metadata": {
        "colab": {
          "base_uri": "https://localhost:8080/"
        },
        "id": "RvZaFd_wLEKa",
        "outputId": "7d08a29d-845c-4d6f-bd72-8700fa9704c7"
      },
      "source": [
        "len(nlp.Defaults.stop_words)"
      ],
      "execution_count": null,
      "outputs": [
        {
          "output_type": "execute_result",
          "data": {
            "text/plain": [
              "326"
            ]
          },
          "metadata": {
            "tags": []
          },
          "execution_count": 5
        }
      ]
    },
    {
      "cell_type": "code",
      "metadata": {
        "colab": {
          "base_uri": "https://localhost:8080/"
        },
        "id": "4OYcnmupLMMZ",
        "outputId": "a14a2d15-96c0-4d7d-b919-3e193bc9b815"
      },
      "source": [
        "#To check whether a word is a stop word or not in a pre-trained model\n",
        "nlp.vocab['well'].is_stop"
      ],
      "execution_count": null,
      "outputs": [
        {
          "output_type": "execute_result",
          "data": {
            "text/plain": [
              "True"
            ]
          },
          "metadata": {
            "tags": []
          },
          "execution_count": 8
        }
      ]
    },
    {
      "cell_type": "code",
      "metadata": {
        "colab": {
          "base_uri": "https://localhost:8080/"
        },
        "id": "0k8HtrvnMDpv",
        "outputId": "d64ea0a4-e32d-4e3d-af7b-fc8db7bb67fa"
      },
      "source": [
        "nlp.vocab['asdfgh'].is_stop"
      ],
      "execution_count": null,
      "outputs": [
        {
          "output_type": "execute_result",
          "data": {
            "text/plain": [
              "False"
            ]
          },
          "metadata": {
            "tags": []
          },
          "execution_count": 9
        }
      ]
    },
    {
      "cell_type": "code",
      "metadata": {
        "id": "1z4Nj6ALLwDI"
      },
      "source": [
        "#Adding a word to stop word list\n",
        "nlp.Defaults.stop_words.add('asdfgh')"
      ],
      "execution_count": null,
      "outputs": []
    },
    {
      "cell_type": "code",
      "metadata": {
        "id": "RbBPnQFuMJoR"
      },
      "source": [
        "#Set it's value to true\n",
        "nlp.vocab['asdfgh'].is_stop = True"
      ],
      "execution_count": null,
      "outputs": []
    },
    {
      "cell_type": "code",
      "metadata": {
        "colab": {
          "base_uri": "https://localhost:8080/"
        },
        "id": "2f_nT0hqMgGn",
        "outputId": "cf4ef6b9-b215-4018-e75e-933bd463802b"
      },
      "source": [
        "#Now checking the added stop word\n",
        "nlp.vocab['asdfgh'].is_stop"
      ],
      "execution_count": null,
      "outputs": [
        {
          "output_type": "execute_result",
          "data": {
            "text/plain": [
              "True"
            ]
          },
          "metadata": {
            "tags": []
          },
          "execution_count": 15
        }
      ]
    },
    {
      "cell_type": "code",
      "metadata": {
        "colab": {
          "base_uri": "https://localhost:8080/"
        },
        "id": "-6Ca2KR5MyDU",
        "outputId": "0892c5f0-26f8-4e3c-cf30-1fb4d7cc6445"
      },
      "source": [
        "#Removing a word from stop word list\n",
        "nlp.vocab['no'].is_stop"
      ],
      "execution_count": null,
      "outputs": [
        {
          "output_type": "execute_result",
          "data": {
            "text/plain": [
              "True"
            ]
          },
          "metadata": {
            "tags": []
          },
          "execution_count": 16
        }
      ]
    },
    {
      "cell_type": "code",
      "metadata": {
        "id": "FUwrg-_TM57M"
      },
      "source": [
        "nlp.vocab['no'].is_stop = False"
      ],
      "execution_count": null,
      "outputs": []
    },
    {
      "cell_type": "code",
      "metadata": {
        "colab": {
          "base_uri": "https://localhost:8080/"
        },
        "id": "Hra0ev_UNs5f",
        "outputId": "1c45ed97-5854-4e0e-81ae-505cccaa263b"
      },
      "source": [
        "nlp.vocab['no'].is_stop"
      ],
      "execution_count": null,
      "outputs": [
        {
          "output_type": "execute_result",
          "data": {
            "text/plain": [
              "False"
            ]
          },
          "metadata": {
            "tags": []
          },
          "execution_count": 23
        }
      ]
    },
    {
      "cell_type": "code",
      "metadata": {
        "colab": {
          "base_uri": "https://localhost:8080/"
        },
        "id": "SDTBPCigNIpy",
        "outputId": "840b3c58-52a8-4b92-e959-259428aadf79"
      },
      "source": [
        "print(nlp.Defaults.stop_words)"
      ],
      "execution_count": null,
      "outputs": [
        {
          "output_type": "stream",
          "text": [
            "{'his', 'really', 'whenever', 'toward', \"'ll\", 'serious', 'made', 'therefore', 'too', '‘ll', 'until', 'by', 'otherwise', 'around', 'also', 'those', \"'ve\", 'see', 'latterly', 'how', 'seems', 'ever', '‘re', 'nevertheless', 'because', 'through', 'already', 'used', 'for', 'only', 'them', 'are', 'been', 'thus', 'become', 'with', 'either', 'once', 'someone', 'did', 'their', 'anything', '‘ve', 'again', 'back', 'nine', 'that', 'however', 'forty', 'over', 'might', 'twenty', 'must', 'eleven', 'is', 'namely', 'very', 'cannot', 'enough', 'wherever', 'beforehand', 'whereby', 'itself', 'many', 'after', 'front', 'few', 'under', 'next', 'something', 'somehow', 'various', 'moreover', 'regarding', 'off', 'even', 'be', 'rather', 'still', 'him', 'can', '’s', 'much', 'give', 'fifteen', 'along', 'part', \"'m\", 'was', 'alone', 'anyway', 'below', 'in', 'whole', '’d', 'mine', 'none', 'they', 'hereby', 'beyond', 'noone', 'several', 'sometime', 'we', 'meanwhile', 'further', 'am', 'may', 'wherein', '’m', 'nobody', 'which', 'doing', 'whereas', 'yet', 'before', 'six', 'eight', 'thereafter', 'at', 'seeming', 'whether', 'everyone', 'then', 'as', 'herein', 'empty', 'whereafter', 'latter', 'both', 'no', 'unless', 'an', 'four', 'own', 'whom', 'it', 'within', 'becomes', 'about', 'another', 'what', 'indeed', 'side', 'done', 'anyone', 'less', 'among', 'five', 'say', 'hers', 'each', 'formerly', 'on', 'out', 'using', 'besides', 'her', 'others', 'put', 'afterwards', 'yourself', 'its', 'onto', 'nothing', '‘d', '’ll', 'not', 'neither', 'often', 'have', 'these', 'though', 'go', 'where', '’ve', 'there', 'full', 'himself', 'thereupon', 'to', 'now', 'show', 'sixty', 'yours', 'take', 'hereafter', 'me', 'most', 'you', 'behind', 'had', 'call', 'n‘t', 'will', 'nor', 'from', 'amongst', 'above', 'between', 'somewhere', \"n't\", 'were', \"'d\", 'yourselves', 'keep', 'but', 'without', 'our', 'throughout', 'or', 'else', 'your', 'never', 'myself', 'across', 'since', 'of', 'almost', 'up', 'except', 'nowhere', '’re', 'just', 'whereupon', 'who', 'quite', 'every', 'would', 'anywhere', 'whence', 'becoming', 'whither', 'always', 'themselves', 'per', 'ourselves', 'fifty', 'everything', 'herself', 'three', 'therein', \"'s\", 're', 'and', 'two', 'hereupon', 'get', 'ten', 'whatever', 'she', 'against', 'make', 'than', 'why', 'when', 'my', 'least', 'everywhere', 'although', 'whoever', 'move', 'ours', 'hundred', 'anyhow', 'all', 'should', 'mostly', 'same', 'do', 'seem', 'twelve', 'amount', 'down', 'here', 'perhaps', 'n’t', 'elsewhere', 'towards', 'some', 'please', 'ca', 'one', \"'re\", 'a', '‘s', 'bottom', 'while', 'became', 'former', 'top', 'during', 'into', 'thence', 'does', 'sometimes', 'if', 'asdfgh', 'so', 'third', 'thereby', 'due', 'thru', 'via', 'could', 'seemed', 'more', 'beside', 'other', 'well', 'such', 'hence', 'i', '‘m', 'being', 'this', 'us', 'name', 'whose', 'the', 'first', 'any', 'upon', 'has', 'he', 'together', 'last'}\n"
          ],
          "name": "stdout"
        }
      ]
    },
    {
      "cell_type": "code",
      "metadata": {
        "id": "26eWweKaNMn8"
      },
      "source": [
        "# nlp.Defaults.stop_words.remove('no')\n",
        "# nlp.vocab"
      ],
      "execution_count": null,
      "outputs": []
    }
  ]
}